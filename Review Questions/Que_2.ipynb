{
  "metadata": {
    "kernelspec": {
      "name": "python",
      "display_name": "Python (Pyodide)",
      "language": "python"
    },
    "language_info": {
      "codemirror_mode": {
        "name": "python",
        "version": 3
      },
      "file_extension": ".py",
      "mimetype": "text/x-python",
      "name": "python",
      "nbconvert_exporter": "python",
      "pygments_lexer": "ipython3",
      "version": "3.8"
    }
  },
  "nbformat_minor": 4,
  "nbformat": 4,
  "cells": [
    {
      "cell_type": "code",
      "source": "# Create the List\nmy_list = [1225, 4986, 6789, 7890, 2345, 6783, 987, 1234, 8765, 3456]\nprint(\"I. creating list: \", my_list)\nprint(\"\\n\\n\")\n\n# Iterating using a for loop\nprint(\"II. Iterating using a for loop\")\nfor item in my_list:\n    print(item)\nprint(\"\\n\\n\")\n\n# Iterating using for loop and range\nprint(\"III. Iterating using for loop and range\")\nfor i in range(len(my_list)):\n    print(my_list[i])\nprint(\"\\n\\n\")\n\n# List Comprehension\nprint(\"IV. Using List Comprehension to square the elements in the list\")\nsquared_list = [x**2 for x in my_list]\nprint(squared_list)\nprint(\"\\n\\n\")\n\n# Using enumerate\nprint(\"V. Using enumerate to map the index and elements of the list\")\nfor index, value in enumerate(my_list):\n    print(f\"Index: {index}, Value: {value}\")\nprint(\"\\n\\n\")\n\n# Using iter and next\nprint(\"VI. Using iter and next to print the elements\")\nmy_iter = iter(my_list)\nprint(next(my_iter))  # First element\nprint(next(my_iter))  # Second element\nprint(next(my_iter)) # Third element\nprint(\"\\n\\n\")\n\n# Using map function to square all elements\nprint(\"VII. Using map function to square all elements\")\nsquared_list = list(map(lambda x: x**2, my_list))\nprint(squared_list)\nprint(\"\\n\\n\")\n\n# Using zip to pair elements with their squares\nprint(\"VIII. Using zip to pair elements with their squares\")\npaired_list = list(zip(my_list, squared_list))\nprint(paired_list)\nprint(\"\\n\\n\")\n\nimport numpy as np\n\n# Convert the list to a NumPy array\nprint(\"IX. Using numpy module to perform operations\")\nnp_array = np.array(my_list)\n\n# Perform operations using NumPy\nprint(\"Sqaring the elements\")\nsquared_np_array = np_array ** 2\nprint(squared_np_array)\nprint(\"\\n\")\n\n# Example of NumPy operations\nprint(\"Calculating the Mean\")\nmean_value = np.mean(np_array)\nprint(f\"Mean: {mean_value}\")\nprint(\"\\n\")\n\nprint(\"Calculating the Sum\")\nsum_value = np.sum(np_array)\nprint(f\"Sum: {sum_value}\")\n",
      "metadata": {
        "trusted": true
      },
      "outputs": [
        {
          "name": "stdout",
          "text": "I. creating list:  [1225, 4986, 6789, 7890, 2345, 6783, 987, 1234, 8765, 3456]\n\n\n\nII. Iterating using a for loop\n1225\n4986\n6789\n7890\n2345\n6783\n987\n1234\n8765\n3456\n\n\n\nIII. Iterating using for loop and range\n1225\n4986\n6789\n7890\n2345\n6783\n987\n1234\n8765\n3456\n\n\n\nIV. Using List Comprehension to square the elements in the list\n[1500625, 24860196, 46090521, 62252100, 5499025, 46009089, 974169, 1522756, 76825225, 11943936]\n\n\n\nV. Using enumerate to map the index and elements of the list\nIndex: 0, Value: 1225\nIndex: 1, Value: 4986\nIndex: 2, Value: 6789\nIndex: 3, Value: 7890\nIndex: 4, Value: 2345\nIndex: 5, Value: 6783\nIndex: 6, Value: 987\nIndex: 7, Value: 1234\nIndex: 8, Value: 8765\nIndex: 9, Value: 3456\n\n\n\nVI. Using iter and next to print the elements\n1225\n4986\n6789\n\n\n\nVII. Using map function to square all elements\n[1500625, 24860196, 46090521, 62252100, 5499025, 46009089, 974169, 1522756, 76825225, 11943936]\n\n\n\nVIII. Using zip to pair elements with their squares\n[(1225, 1500625), (4986, 24860196), (6789, 46090521), (7890, 62252100), (2345, 5499025), (6783, 46009089), (987, 974169), (1234, 1522756), (8765, 76825225), (3456, 11943936)]\n\n\n\nIX. Using numpy module to perform operations\nSqaring the elements\n[ 1500625 24860196 46090521 62252100  5499025 46009089   974169  1522756\n 76825225 11943936]\n\n\nCalculating the Mean\nMean: 4446.0\n\n\nCalculating the Sum\nSum: 44460\n",
          "output_type": "stream"
        }
      ],
      "execution_count": 1
    },
    {
      "cell_type": "code",
      "source": "",
      "metadata": {
        "trusted": true
      },
      "outputs": [],
      "execution_count": null
    }
  ]
}