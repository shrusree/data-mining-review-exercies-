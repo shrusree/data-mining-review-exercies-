{
  "metadata": {
    "kernelspec": {
      "name": "python",
      "display_name": "Python (Pyodide)",
      "language": "python"
    },
    "language_info": {
      "codemirror_mode": {
        "name": "python",
        "version": 3
      },
      "file_extension": ".py",
      "mimetype": "text/x-python",
      "name": "python",
      "nbconvert_exporter": "python",
      "pygments_lexer": "ipython3",
      "version": "3.8"
    }
  },
  "nbformat_minor": 4,
  "nbformat": 4,
  "cells": [
    {
      "cell_type": "code",
      "source": "# List of elements\nelements = [\"A\", \"B\", \"C\", \"D\", \"E\"]\n\ndef permutations(elements):\n    if len(elements) == 0:\n        return []\n    if len(elements) == 1:\n        return [elements]\n\n    result = []  # List to store the permutations\n    for i in range(len(elements)):\n        # Extract the current element\n        current = elements[i]\n        # Remaining list after removing the current element\n        remaining_elements = elements[:i] + elements[i+1:]\n        # Generate all permutations where the current element is first\n        for p in permutations(remaining_elements):\n            result.append([current] + p)\n    return result\n\ndef combinations(elements, r):\n    if r == 0:\n        return [[]]\n    if len(elements) < r:\n        return []\n\n    result = []\n    for i in range(len(elements)):\n        current = elements[i]\n        remaining_elements = elements[i+1:]\n        for c in combinations(remaining_elements, r-1):\n            result.append([current] + c)\n    return result\n\n# Compute and print all permutations\nprint(\"Permutations:\")\nall_permutations = permutations(elements)\nfor perm in all_permutations:\n    print(perm)\n\n# Compute and print all combinations of different lengths\nprint(\"\\nCombinations:\")\nfor r in range(2, len(elements) + 1):\n    print(f\"Combinations of length {r}:\")\n    all_combinations = combinations(elements, r)\n    for comb in all_combinations:\n        print(comb)\n\n\nimport cProfile\ndef profile_operations():\n    permutations(elements)\n    combinations(elements, 3)\n    print(\"\\n\\n Performing profiling\")\n\ncProfile.run('profile_operations()')",
      "metadata": {
        "trusted": true
      },
      "outputs": [
        {
          "name": "stdout",
          "text": "Permutations:\n['A', 'B', 'C', 'D', 'E']\n['A', 'B', 'C', 'E', 'D']\n['A', 'B', 'D', 'C', 'E']\n['A', 'B', 'D', 'E', 'C']\n['A', 'B', 'E', 'C', 'D']\n['A', 'B', 'E', 'D', 'C']\n['A', 'C', 'B', 'D', 'E']\n['A', 'C', 'B', 'E', 'D']\n['A', 'C', 'D', 'B', 'E']\n['A', 'C', 'D', 'E', 'B']\n['A', 'C', 'E', 'B', 'D']\n['A', 'C', 'E', 'D', 'B']\n['A', 'D', 'B', 'C', 'E']\n['A', 'D', 'B', 'E', 'C']\n['A', 'D', 'C', 'B', 'E']\n['A', 'D', 'C', 'E', 'B']\n['A', 'D', 'E', 'B', 'C']\n['A', 'D', 'E', 'C', 'B']\n['A', 'E', 'B', 'C', 'D']\n['A', 'E', 'B', 'D', 'C']\n['A', 'E', 'C', 'B', 'D']\n['A', 'E', 'C', 'D', 'B']\n['A', 'E', 'D', 'B', 'C']\n['A', 'E', 'D', 'C', 'B']\n['B', 'A', 'C', 'D', 'E']\n['B', 'A', 'C', 'E', 'D']\n['B', 'A', 'D', 'C', 'E']\n['B', 'A', 'D', 'E', 'C']\n['B', 'A', 'E', 'C', 'D']\n['B', 'A', 'E', 'D', 'C']\n['B', 'C', 'A', 'D', 'E']\n['B', 'C', 'A', 'E', 'D']\n['B', 'C', 'D', 'A', 'E']\n['B', 'C', 'D', 'E', 'A']\n['B', 'C', 'E', 'A', 'D']\n['B', 'C', 'E', 'D', 'A']\n['B', 'D', 'A', 'C', 'E']\n['B', 'D', 'A', 'E', 'C']\n['B', 'D', 'C', 'A', 'E']\n['B', 'D', 'C', 'E', 'A']\n['B', 'D', 'E', 'A', 'C']\n['B', 'D', 'E', 'C', 'A']\n['B', 'E', 'A', 'C', 'D']\n['B', 'E', 'A', 'D', 'C']\n['B', 'E', 'C', 'A', 'D']\n['B', 'E', 'C', 'D', 'A']\n['B', 'E', 'D', 'A', 'C']\n['B', 'E', 'D', 'C', 'A']\n['C', 'A', 'B', 'D', 'E']\n['C', 'A', 'B', 'E', 'D']\n['C', 'A', 'D', 'B', 'E']\n['C', 'A', 'D', 'E', 'B']\n['C', 'A', 'E', 'B', 'D']\n['C', 'A', 'E', 'D', 'B']\n['C', 'B', 'A', 'D', 'E']\n['C', 'B', 'A', 'E', 'D']\n['C', 'B', 'D', 'A', 'E']\n['C', 'B', 'D', 'E', 'A']\n['C', 'B', 'E', 'A', 'D']\n['C', 'B', 'E', 'D', 'A']\n['C', 'D', 'A', 'B', 'E']\n['C', 'D', 'A', 'E', 'B']\n['C', 'D', 'B', 'A', 'E']\n['C', 'D', 'B', 'E', 'A']\n['C', 'D', 'E', 'A', 'B']\n['C', 'D', 'E', 'B', 'A']\n['C', 'E', 'A', 'B', 'D']\n['C', 'E', 'A', 'D', 'B']\n['C', 'E', 'B', 'A', 'D']\n['C', 'E', 'B', 'D', 'A']\n['C', 'E', 'D', 'A', 'B']\n['C', 'E', 'D', 'B', 'A']\n['D', 'A', 'B', 'C', 'E']\n['D', 'A', 'B', 'E', 'C']\n['D', 'A', 'C', 'B', 'E']\n['D', 'A', 'C', 'E', 'B']\n['D', 'A', 'E', 'B', 'C']\n['D', 'A', 'E', 'C', 'B']\n['D', 'B', 'A', 'C', 'E']\n['D', 'B', 'A', 'E', 'C']\n['D', 'B', 'C', 'A', 'E']\n['D', 'B', 'C', 'E', 'A']\n['D', 'B', 'E', 'A', 'C']\n['D', 'B', 'E', 'C', 'A']\n['D', 'C', 'A', 'B', 'E']\n['D', 'C', 'A', 'E', 'B']\n['D', 'C', 'B', 'A', 'E']\n['D', 'C', 'B', 'E', 'A']\n['D', 'C', 'E', 'A', 'B']\n['D', 'C', 'E', 'B', 'A']\n['D', 'E', 'A', 'B', 'C']\n['D', 'E', 'A', 'C', 'B']\n['D', 'E', 'B', 'A', 'C']\n['D', 'E', 'B', 'C', 'A']\n['D', 'E', 'C', 'A', 'B']\n['D', 'E', 'C', 'B', 'A']\n['E', 'A', 'B', 'C', 'D']\n['E', 'A', 'B', 'D', 'C']\n['E', 'A', 'C', 'B', 'D']\n['E', 'A', 'C', 'D', 'B']\n['E', 'A', 'D', 'B', 'C']\n['E', 'A', 'D', 'C', 'B']\n['E', 'B', 'A', 'C', 'D']\n['E', 'B', 'A', 'D', 'C']\n['E', 'B', 'C', 'A', 'D']\n['E', 'B', 'C', 'D', 'A']\n['E', 'B', 'D', 'A', 'C']\n['E', 'B', 'D', 'C', 'A']\n['E', 'C', 'A', 'B', 'D']\n['E', 'C', 'A', 'D', 'B']\n['E', 'C', 'B', 'A', 'D']\n['E', 'C', 'B', 'D', 'A']\n['E', 'C', 'D', 'A', 'B']\n['E', 'C', 'D', 'B', 'A']\n['E', 'D', 'A', 'B', 'C']\n['E', 'D', 'A', 'C', 'B']\n['E', 'D', 'B', 'A', 'C']\n['E', 'D', 'B', 'C', 'A']\n['E', 'D', 'C', 'A', 'B']\n['E', 'D', 'C', 'B', 'A']\n\nCombinations:\nCombinations of length 2:\n['A', 'B']\n['A', 'C']\n['A', 'D']\n['A', 'E']\n['B', 'C']\n['B', 'D']\n['B', 'E']\n['C', 'D']\n['C', 'E']\n['D', 'E']\nCombinations of length 3:\n['A', 'B', 'C']\n['A', 'B', 'D']\n['A', 'B', 'E']\n['A', 'C', 'D']\n['A', 'C', 'E']\n['A', 'D', 'E']\n['B', 'C', 'D']\n['B', 'C', 'E']\n['B', 'D', 'E']\n['C', 'D', 'E']\nCombinations of length 4:\n['A', 'B', 'C', 'D']\n['A', 'B', 'C', 'E']\n['A', 'B', 'D', 'E']\n['A', 'C', 'D', 'E']\n['B', 'C', 'D', 'E']\nCombinations of length 5:\n['A', 'B', 'C', 'D', 'E']\n\n\n Performing profiling\n         1271 function calls (1042 primitive calls) in 0.002 seconds\n\n   Ordered by: standard name\n\n   ncalls  tottime  percall  cumtime  percall filename:lineno(function)\n     25/1    0.000    0.000    0.000    0.000 <ipython-input-1-74d1215630fe>:21(combinations)\n    206/1    0.001    0.000    0.001    0.001 <ipython-input-1-74d1215630fe>:4(permutations)\n        1    0.000    0.000    0.001    0.001 <ipython-input-1-74d1215630fe>:51(profile_operations)\n        1    0.000    0.000    0.001    0.001 <string>:1(<module>)\n        2    0.000    0.000    0.000    0.000 display.py:19(write)\n        1    0.000    0.000    0.001    0.001 {built-in method builtins.exec}\n      523    0.000    0.000    0.000    0.000 {built-in method builtins.len}\n        1    0.000    0.000    0.000    0.000 {built-in method builtins.print}\n      510    0.000    0.000    0.000    0.000 {method 'append' of 'list' objects}\n        1    0.001    0.001    0.001    0.001 {method 'disable' of '_lsprof.Profiler' objects}\n\n\n",
          "output_type": "stream"
        }
      ],
      "execution_count": 1
    },
    {
      "cell_type": "code",
      "source": "",
      "metadata": {
        "trusted": true
      },
      "outputs": [],
      "execution_count": null
    }
  ]
}