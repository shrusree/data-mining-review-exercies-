{
  "metadata": {
    "kernelspec": {
      "name": "python",
      "display_name": "Python (Pyodide)",
      "language": "python"
    },
    "language_info": {
      "codemirror_mode": {
        "name": "python",
        "version": 3
      },
      "file_extension": ".py",
      "mimetype": "text/x-python",
      "name": "python",
      "nbconvert_exporter": "python",
      "pygments_lexer": "ipython3",
      "version": "3.8"
    }
  },
  "nbformat_minor": 4,
  "nbformat": 4,
  "cells": [
    {
      "cell_type": "code",
      "source": "# initializing the matrices using variables L, M, N\nL = [[3.7827, 3.3454, 3.2341], [2.2122, 3.5678, 3.9087], [1.1234, 2.8934, 5.9087]]\nM = [[3.1234, 3.0987, 3.1234], [2.1111, 3.2222, 3.3333], [1.0987, 1.3456, 5.1234]]\nN = [[3.1243, 3.0989, 3.1256], [2.6721, 3.6785, 3.9017], [1.1254, 2.8956, 5.9187]]\n\n# Adding the matrices with lists\ndef list_add (L, M):\n    return [[L[i][j] + M[i][j] for j in range(len(L[0]))] for i in range(len(L))]\n\n# Multiplying the matrices with lists\ndef list_multiply (L, M):\n    return [[sum(L[i][k] * M[k][j] for k in range(len(M))) for j in range(len(M[0]))] for i in range(len(L))]\n\n# Subtracting the matrices with lists\ndef list_subtract (L, M):\n    return [[L[i][j] - M[i][j] for j in range(len(L[0]))] for i in range(len(L))]\n\nprint(\"Matrix Addition using Lists: \", list_add(L,M))\nprint(\"Matrix subtraction using list: \", list_subtract(L,M))\nprint(\"Matrix multipication using list: \", list_multiply (L,M))\nprint(\"\\n\\n\\n\")\n\n#Profiling the list operations \nimport cProfile\ndef profile_list_operations():\n    list_add(L,M)\n    list_subtract(L,M)\n    list_multiply (L,M)\n\ncProfile.run('profile_list_operations()')",
      "metadata": {
        "trusted": true
      },
      "outputs": [
        {
          "name": "stdout",
          "text": "Matrix Addition using Lists:  [[6.9061, 6.444100000000001, 6.3575], [4.3233, 6.79, 7.242], [2.2221, 4.239, 11.0321]]\nMatrix subtraction using list:  [[0.6593, 0.24670000000000014, 0.11070000000000002], [0.10110000000000019, 0.34560000000000013, 0.5754000000000001], [0.024699999999999944, 1.5478000000000003, 0.7852999999999994]]\nMatrix multipication using list:  [[22.43066479, 26.852805330000002, 39.53569494], [18.73605675, 23.61065602, 38.8279668], [16.10897299, 20.754939779999997, 43.42603136]]\n\n\n\n\n         73 function calls in 0.000 seconds\n\n   Ordered by: standard name\n\n   ncalls  tottime  percall  cumtime  percall filename:lineno(function)\n        1    0.000    0.000    0.000    0.000 <ipython-input-1-84b93ac7968b>:11(list_multiply)\n       36    0.000    0.000    0.000    0.000 <ipython-input-1-84b93ac7968b>:12(<genexpr>)\n        1    0.000    0.000    0.000    0.000 <ipython-input-1-84b93ac7968b>:15(list_subtract)\n        1    0.000    0.000    0.000    0.000 <ipython-input-1-84b93ac7968b>:25(profile_list_operations)\n        1    0.000    0.000    0.000    0.000 <ipython-input-1-84b93ac7968b>:7(list_add)\n        1    0.000    0.000    0.000    0.000 <string>:1(<module>)\n        1    0.000    0.000    0.000    0.000 {built-in method builtins.exec}\n       21    0.000    0.000    0.000    0.000 {built-in method builtins.len}\n        9    0.000    0.000    0.000    0.000 {built-in method builtins.sum}\n        1    0.000    0.000    0.000    0.000 {method 'disable' of '_lsprof.Profiler' objects}\n\n\n",
          "output_type": "stream"
        }
      ],
      "execution_count": 1
    },
    {
      "cell_type": "code",
      "source": "import numpy as np\n\n# initializing the matrices using variables L, M, N\nL_np = np.array([[3.7827, 3.3454, 3.2341], [2.2122, 3.5678, 3.9087], [1.1234, 2.8934, 5.9087]])\nM_np = np.array([[3.1234, 3.0987, 3.1234], [2.1111, 3.2222, 3.3333], [1.0987, 1.3456, 5.1234]])\nM_np = np.array([[3.1243, 3.0989, 3.1256], [2.6721, 3.6785, 3.9017], [1.1254, 2.8956, 5.9187]])\n\n# Adding the matrices with numpy\nnumpy_add = L_np + M_np\n# Mul the matrices with lists\nnumpy_multiply = np.dot(A_np, B_np)\n\nprint(\"Matrix addition result using NumPy:\", numpy_add)\nprint(\"Matrix multiplication result using NumPy:\", numpy_multiply)\n\n#Profiling the numpy operations \nimport cProfile\ndef profile_numpy_operations():\n    numpy_add(L_np,M_np)\n    numpy_multiply(L_np,M_np)\n\ncProfile.run('profile_numpy_operations()')",
      "metadata": {
        "trusted": true
      },
      "outputs": [
        {
          "name": "stdout",
          "text": "Matrix addition result using NumPy: [[ 6.907   6.4443  6.3597]\n [ 4.8843  7.2463  7.8104]\n [ 2.2488  5.789  11.8274]]\nMatrix multiplication result using NumPy: [[22.43066479 26.85280533 39.53569494]\n [18.73605675 23.61065602 38.8279668 ]\n [16.10897299 20.75493978 43.42603136]]\n         4 function calls in 0.000 seconds\n\n   Ordered by: standard name\n\n   ncalls  tottime  percall  cumtime  percall filename:lineno(function)\n        1    0.000    0.000    0.000    0.000 <ipython-input-4-dfe3678589a5>:18(profile_list_operations)\n        1    0.000    0.000    0.000    0.000 <string>:1(<module>)\n        1    0.000    0.000    0.000    0.000 {built-in method builtins.exec}\n        1    0.000    0.000    0.000    0.000 {method 'disable' of '_lsprof.Profiler' objects}\n\n\n",
          "output_type": "stream"
        },
        {
          "ename": "<class 'TypeError'>",
          "evalue": "'numpy.ndarray' object is not callable",
          "traceback": [
            "\u001b[0;31m---------------------------------------------------------------------------\u001b[0m",
            "\u001b[0;31mTypeError\u001b[0m                                 Traceback (most recent call last)",
            "Cell \u001b[0;32mIn[4], line 23\u001b[0m\n\u001b[1;32m     20\u001b[0m     list_subtract(L,M)\n\u001b[1;32m     21\u001b[0m     list_multiply (L,M)\n\u001b[0;32m---> 23\u001b[0m \u001b[43mcProfile\u001b[49m\u001b[38;5;241;43m.\u001b[39;49m\u001b[43mrun\u001b[49m\u001b[43m(\u001b[49m\u001b[38;5;124;43m'\u001b[39;49m\u001b[38;5;124;43mprofile_list_operations()\u001b[39;49m\u001b[38;5;124;43m'\u001b[39;49m\u001b[43m)\u001b[49m\n",
            "File \u001b[0;32m/lib/python312.zip/cProfile.py:18\u001b[0m, in \u001b[0;36mrun\u001b[0;34m(statement, filename, sort)\u001b[0m\n\u001b[1;32m     17\u001b[0m \u001b[38;5;28;01mdef\u001b[39;00m \u001b[38;5;21mrun\u001b[39m(statement, filename\u001b[38;5;241m=\u001b[39m\u001b[38;5;28;01mNone\u001b[39;00m, sort\u001b[38;5;241m=\u001b[39m\u001b[38;5;241m-\u001b[39m\u001b[38;5;241m1\u001b[39m):\n\u001b[0;32m---> 18\u001b[0m     \u001b[38;5;28;01mreturn\u001b[39;00m \u001b[43m_pyprofile\u001b[49m\u001b[38;5;241;43m.\u001b[39;49m\u001b[43m_Utils\u001b[49m\u001b[43m(\u001b[49m\u001b[43mProfile\u001b[49m\u001b[43m)\u001b[49m\u001b[38;5;241;43m.\u001b[39;49m\u001b[43mrun\u001b[49m\u001b[43m(\u001b[49m\u001b[43mstatement\u001b[49m\u001b[43m,\u001b[49m\u001b[43m \u001b[49m\u001b[43mfilename\u001b[49m\u001b[43m,\u001b[49m\u001b[43m \u001b[49m\u001b[43msort\u001b[49m\u001b[43m)\u001b[49m\n",
            "File \u001b[0;32m/lib/python312.zip/profile.py:55\u001b[0m, in \u001b[0;36m_Utils.run\u001b[0;34m(self, statement, filename, sort)\u001b[0m\n\u001b[1;32m     53\u001b[0m prof \u001b[38;5;241m=\u001b[39m \u001b[38;5;28mself\u001b[39m\u001b[38;5;241m.\u001b[39mprofiler()\n\u001b[1;32m     54\u001b[0m \u001b[38;5;28;01mtry\u001b[39;00m:\n\u001b[0;32m---> 55\u001b[0m     \u001b[43mprof\u001b[49m\u001b[38;5;241;43m.\u001b[39;49m\u001b[43mrun\u001b[49m\u001b[43m(\u001b[49m\u001b[43mstatement\u001b[49m\u001b[43m)\u001b[49m\n\u001b[1;32m     56\u001b[0m \u001b[38;5;28;01mexcept\u001b[39;00m \u001b[38;5;167;01mSystemExit\u001b[39;00m:\n\u001b[1;32m     57\u001b[0m     \u001b[38;5;28;01mpass\u001b[39;00m\n",
            "File \u001b[0;32m/lib/python312.zip/cProfile.py:97\u001b[0m, in \u001b[0;36mProfile.run\u001b[0;34m(self, cmd)\u001b[0m\n\u001b[1;32m     95\u001b[0m \u001b[38;5;28;01mimport\u001b[39;00m \u001b[38;5;21;01m__main__\u001b[39;00m\n\u001b[1;32m     96\u001b[0m \u001b[38;5;28mdict\u001b[39m \u001b[38;5;241m=\u001b[39m __main__\u001b[38;5;241m.\u001b[39m\u001b[38;5;18m__dict__\u001b[39m\n\u001b[0;32m---> 97\u001b[0m \u001b[38;5;28;01mreturn\u001b[39;00m \u001b[38;5;28;43mself\u001b[39;49m\u001b[38;5;241;43m.\u001b[39;49m\u001b[43mrunctx\u001b[49m\u001b[43m(\u001b[49m\u001b[43mcmd\u001b[49m\u001b[43m,\u001b[49m\u001b[43m \u001b[49m\u001b[38;5;28;43mdict\u001b[39;49m\u001b[43m,\u001b[49m\u001b[43m \u001b[49m\u001b[38;5;28;43mdict\u001b[39;49m\u001b[43m)\u001b[49m\n",
            "File \u001b[0;32m/lib/python312.zip/cProfile.py:102\u001b[0m, in \u001b[0;36mProfile.runctx\u001b[0;34m(self, cmd, globals, locals)\u001b[0m\n\u001b[1;32m    100\u001b[0m \u001b[38;5;28mself\u001b[39m\u001b[38;5;241m.\u001b[39menable()\n\u001b[1;32m    101\u001b[0m \u001b[38;5;28;01mtry\u001b[39;00m:\n\u001b[0;32m--> 102\u001b[0m     \u001b[43mexec\u001b[49m\u001b[43m(\u001b[49m\u001b[43mcmd\u001b[49m\u001b[43m,\u001b[49m\u001b[43m \u001b[49m\u001b[38;5;28;43mglobals\u001b[39;49m\u001b[43m,\u001b[49m\u001b[43m \u001b[49m\u001b[38;5;28;43mlocals\u001b[39;49m\u001b[43m)\u001b[49m\n\u001b[1;32m    103\u001b[0m \u001b[38;5;28;01mfinally\u001b[39;00m:\n\u001b[1;32m    104\u001b[0m     \u001b[38;5;28mself\u001b[39m\u001b[38;5;241m.\u001b[39mdisable()\n",
            "File \u001b[0;32m<string>:1\u001b[0m\n",
            "Cell \u001b[0;32mIn[4], line 19\u001b[0m, in \u001b[0;36mprofile_list_operations\u001b[0;34m()\u001b[0m\n\u001b[1;32m     18\u001b[0m \u001b[38;5;28;01mdef\u001b[39;00m \u001b[38;5;21mprofile_list_operations\u001b[39m():\n\u001b[0;32m---> 19\u001b[0m     \u001b[43mnumpy_add\u001b[49m\u001b[43m(\u001b[49m\u001b[43mL\u001b[49m\u001b[43m,\u001b[49m\u001b[43mM\u001b[49m\u001b[43m)\u001b[49m\n\u001b[1;32m     20\u001b[0m     list_subtract(L,M)\n\u001b[1;32m     21\u001b[0m     list_multiply (L,M)\n",
            "\u001b[0;31mTypeError\u001b[0m: 'numpy.ndarray' object is not callable"
          ],
          "output_type": "error"
        }
      ],
      "execution_count": 4
    },
    {
      "cell_type": "code",
      "source": "",
      "metadata": {
        "trusted": true
      },
      "outputs": [],
      "execution_count": null
    }
  ]
}